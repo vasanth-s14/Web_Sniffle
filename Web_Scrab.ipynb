{
  "nbformat": 4,
  "nbformat_minor": 0,
  "metadata": {
    "colab": {
      "provenance": []
    },
    "kernelspec": {
      "name": "python3",
      "display_name": "Python 3"
    },
    "language_info": {
      "name": "python"
    }
  },
  "cells": [
    {
      "cell_type": "markdown",
      "source": [
        "**Web Scraping**\n",
        "\n",
        "**Create a program that extracts product information, such as names, prices, and ratings, from an online e-commerce website and stores the data in a structured format like a CSV file.**\n",
        "\n",
        "**You are free to choose the website you scrape from.**"
      ],
      "metadata": {
        "id": "S-qQjFGynm3F"
      }
    },
    {
      "cell_type": "code",
      "source": [
        "!pip install requests beautifulsoup4 pandas\n"
      ],
      "metadata": {
        "colab": {
          "base_uri": "https://localhost:8080/"
        },
        "id": "oOA4wi_voNsb",
        "outputId": "9a0c8f86-0b15-46b4-b066-17a28af6b3e9"
      },
      "execution_count": 1,
      "outputs": [
        {
          "output_type": "stream",
          "name": "stdout",
          "text": [
            "Requirement already satisfied: requests in /usr/local/lib/python3.10/dist-packages (2.32.3)\n",
            "Requirement already satisfied: beautifulsoup4 in /usr/local/lib/python3.10/dist-packages (4.12.3)\n",
            "Requirement already satisfied: pandas in /usr/local/lib/python3.10/dist-packages (2.1.4)\n",
            "Requirement already satisfied: charset-normalizer<4,>=2 in /usr/local/lib/python3.10/dist-packages (from requests) (3.3.2)\n",
            "Requirement already satisfied: idna<4,>=2.5 in /usr/local/lib/python3.10/dist-packages (from requests) (3.7)\n",
            "Requirement already satisfied: urllib3<3,>=1.21.1 in /usr/local/lib/python3.10/dist-packages (from requests) (2.0.7)\n",
            "Requirement already satisfied: certifi>=2017.4.17 in /usr/local/lib/python3.10/dist-packages (from requests) (2024.7.4)\n",
            "Requirement already satisfied: soupsieve>1.2 in /usr/local/lib/python3.10/dist-packages (from beautifulsoup4) (2.5)\n",
            "Requirement already satisfied: numpy<2,>=1.22.4 in /usr/local/lib/python3.10/dist-packages (from pandas) (1.26.4)\n",
            "Requirement already satisfied: python-dateutil>=2.8.2 in /usr/local/lib/python3.10/dist-packages (from pandas) (2.8.2)\n",
            "Requirement already satisfied: pytz>=2020.1 in /usr/local/lib/python3.10/dist-packages (from pandas) (2024.1)\n",
            "Requirement already satisfied: tzdata>=2022.1 in /usr/local/lib/python3.10/dist-packages (from pandas) (2024.1)\n",
            "Requirement already satisfied: six>=1.5 in /usr/local/lib/python3.10/dist-packages (from python-dateutil>=2.8.2->pandas) (1.16.0)\n"
          ]
        }
      ]
    },
    {
      "cell_type": "code",
      "source": [
        "import requests\n",
        "from bs4 import BeautifulSoup\n",
        "import pandas as pd\n",
        "import time\n",
        "\n",
        "def fetch_page(url, headers, retries=3, backoff_factor=0.3):\n",
        "    \"\"\"Fetch a web page with retry logic.\"\"\"\n",
        "    for i in range(retries):\n",
        "        response = requests.get(url, headers=headers)\n",
        "        if response.status_code == 200:\n",
        "            return response\n",
        "        else:\n",
        "            time.sleep(backoff_factor * (2 ** i))\n",
        "    return None\n",
        "\n",
        "# URL of the e-commerce category page (this is just an example)\n",
        "url = 'https://www.amazon.com/s?k=laptops'\n",
        "\n",
        "# Headers to mimic a browser visit (you may need to update these headers if the request gets blocked)\n",
        "headers = {\n",
        "    \"User-Agent\": \"Mozilla/5.0 (Windows NT 10.0; Win64; x64) AppleWebKit/537.36 (KHTML, like Gecko) Chrome/91.0.4472.124 Safari/537.36\"\n",
        "}\n",
        "\n",
        "# Fetch the web page\n",
        "response = fetch_page(url, headers)\n",
        "\n",
        "# Check if the request was successful\n",
        "if response and response.status_code == 200:\n",
        "    # Parse the HTML content\n",
        "    soup = BeautifulSoup(response.content, 'html.parser')\n",
        "\n",
        "    # Find all product containers (this will vary based on the website's structure)\n",
        "    product_containers = soup.find_all('div', {'data-component-type': 's-search-result'})\n",
        "\n",
        "    # Lists to store the extracted data\n",
        "    product_names = []\n",
        "    product_prices = []\n",
        "    product_ratings = []\n",
        "\n",
        "    # Extract the desired information from each product container\n",
        "    for container in product_containers:\n",
        "        # Extract the product name\n",
        "        name = container.h2.a.text.strip()\n",
        "        product_names.append(name)\n",
        "\n",
        "        # Extract the product price\n",
        "        price_whole = container.find('span', class_='a-price-whole')\n",
        "        price_fraction = container.find('span', class_='a-price-fraction')\n",
        "        if price_whole and price_fraction:\n",
        "            price = price_whole.text + price_fraction.text\n",
        "        else:\n",
        "            price = 'N/A'\n",
        "        product_prices.append(price)\n",
        "\n",
        "        # Extract the product rating\n",
        "        rating = container.find('span', class_='a-icon-alt')\n",
        "        if rating:\n",
        "            rating = rating.text.split(' ')[0]\n",
        "        else:\n",
        "            rating = 'N/A'\n",
        "        product_ratings.append(rating)\n",
        "\n",
        "    # Create a DataFrame using the extracted data\n",
        "    data = {\n",
        "        'Product Name': product_names,\n",
        "        'Price': product_prices,\n",
        "        'Rating': product_ratings\n",
        "    }\n",
        "    df = pd.DataFrame(data)\n",
        "\n",
        "    # Save the data to a CSV file\n",
        "    df.to_csv('products.csv', index=False)\n",
        "    print('Data saved to products.csv')\n",
        "else:\n",
        "    print(f'Failed to retrieve the webpage. Status code: {response.status_code if response else \"N/A\"}')\n"
      ],
      "metadata": {
        "colab": {
          "base_uri": "https://localhost:8080/"
        },
        "id": "JV31QLhFtjUH",
        "outputId": "9cebe094-3011-4664-f1ae-b18e2807b7b0"
      },
      "execution_count": null,
      "outputs": [
        {
          "output_type": "stream",
          "name": "stdout",
          "text": [
            "Failed to retrieve the webpage. Status code: N/A\n"
          ]
        }
      ]
    },
    {
      "cell_type": "code",
      "source": [],
      "metadata": {
        "id": "lKdu-OnCvIE1"
      },
      "execution_count": null,
      "outputs": []
    }
  ]
}